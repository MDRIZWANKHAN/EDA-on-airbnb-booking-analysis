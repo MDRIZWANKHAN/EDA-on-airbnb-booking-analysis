{
  "nbformat": 4,
  "nbformat_minor": 0,
  "metadata": {
    "colab": {
      "private_outputs": true,
      "provenance": [],
      "collapsed_sections": [
        "vncDsAP0Gaoa",
        "FJNUwmbgGyua",
        "w6K7xa23Elo4",
        "yQaldy8SH6Dl",
        "PH-0ReGfmX4f",
        "mDgbUHAGgjLW",
        "O_i_v8NEhb9l",
        "HhfV-JJviCcP",
        "Y3lxredqlCYt",
        "3RnN4peoiCZX",
        "x71ZqKXriCWQ",
        "7hBIi_osiCS2",
        "JlHwYmJAmNHm",
        "35m5QtbWiB9F",
        "PoPl-ycgm1ru",
        "H0kj-8xxnORC",
        "nA9Y7ga8ng1Z",
        "PBTbrJXOngz2",
        "u3PMJOP6ngxN",
        "dauF4eBmngu3",
        "bKJF3rekwFvQ",
        "MSa1f5Uengrz",
        "GF8Ens_Soomf",
        "0wOQAZs5pc--",
        "K5QZ13OEpz2H",
        "lQ7QKXXCp7Bj",
        "448CDAPjqfQr",
        "KSlN3yHqYklG",
        "t6dVpIINYklI",
        "ijmpgYnKYklI",
        "-JiQyfWJYklI",
        "EM7whBJCYoAo",
        "fge-S5ZAYoAp",
        "85gYPyotYoAp",
        "RoGjAbkUYoAp",
        "4Of9eVA-YrdM",
        "iky9q4vBYrdO",
        "F6T5p64dYrdO",
        "y-Ehk30pYrdP",
        "bamQiAODYuh1",
        "QHF8YVU7Yuh3",
        "GwzvFGzlYuh3",
        "qYpmQ266Yuh3",
        "OH-pJp9IphqM",
        "bbFf2-_FphqN",
        "_ouA3fa0phqN",
        "Seke61FWphqN",
        "PIIx-8_IphqN",
        "t27r6nlMphqO",
        "r2jJGEOYphqO",
        "b0JNsNcRphqO",
        "BZR9WyysphqO",
        "jj7wYXLtphqO",
        "eZrbJ2SmphqO",
        "rFu4xreNphqO",
        "YJ55k-q6phqO",
        "gCFgpxoyphqP",
        "OVtJsKN_phqQ",
        "lssrdh5qphqQ",
        "U2RJ9gkRphqQ",
        "1M8mcRywphqQ",
        "tgIPom80phqQ",
        "JMzcOPDDphqR",
        "x-EpHcCOp1ci",
        "X_VqEhTip1ck",
        "8zGJKyg5p1ck",
        "PVzmfK_Ep1ck",
        "n3dbpmDWp1ck",
        "ylSl6qgtp1ck",
        "ZWILFDl5p1ck",
        "M7G43BXep1ck",
        "Ag9LCva-p1cl",
        "E6MkPsBcp1cl",
        "2cELzS2fp1cl",
        "3MPXvC8up1cl",
        "NC_X3p0fY2L0",
        "UV0SzAkaZNRQ",
        "YPEH6qLeZNRQ",
        "q29F0dvdveiT",
        "EXh0U9oCveiU",
        "22aHeOlLveiV",
        "JcMwzZxoAimU",
        "8G2x9gOozGDZ",
        "gCX9965dhzqZ",
        "gIfDvo9L0UH2"
      ],
      "include_colab_link": true
    },
    "kernelspec": {
      "name": "python3",
      "display_name": "Python 3"
    },
    "language_info": {
      "name": "python"
    }
  },
  "cells": [
    {
      "cell_type": "markdown",
      "metadata": {
        "id": "view-in-github",
        "colab_type": "text"
      },
      "source": [
        "<a href=\"https://colab.research.google.com/github/MDRIZWANKHAN/EDA-on-airbnb-booking-analysis/blob/main/EDA_on_Airbnb_Booking.ipynb\" target=\"_parent\"><img src=\"https://colab.research.google.com/assets/colab-badge.svg\" alt=\"Open In Colab\"/></a>"
      ]
    },
    {
      "cell_type": "markdown",
      "source": [
        "# **Project Name**    - Exploratory Data Analysis On Airbnb Booking\n",
        "\n"
      ],
      "metadata": {
        "id": "vncDsAP0Gaoa"
      }
    },
    {
      "cell_type": "markdown",
      "source": [
        "##### **Project Type**    - EDA\n",
        "##### **Contribution**    - Individual\n",
        "##### **Name              -**Md Rizwan Khan\n",
        "\n"
      ],
      "metadata": {
        "id": "beRrZCGUAJYm"
      }
    },
    {
      "cell_type": "markdown",
      "source": [
        "# **Project Summary -**"
      ],
      "metadata": {
        "id": "FJNUwmbgGyua"
      }
    },
    {
      "cell_type": "markdown",
      "source": [
        "Airbnb is an online marketplace that connects people who want to rent out their homes with people who are looking for accommodations in that locale. It currently covers more than 100,000 cities and 220 countries worldwide. For hosts, it's a way to earn money while protecting their property from potential damage. However, for guests, it's a risky venture that they should avoid.\n",
        "\n",
        "For this project we are analyzing Airbnb’s New York City(NYC) data of 2019. NYC is not only the most famous city in the world but also top global destination for visitors drawn to its museums, entertainment, restaurants and commerce. According to the Office of New York State Comptroller, NYC hosted 66.6 million visitors in 2019.\n",
        "\n",
        "Data analysis on thousands of listings provided through Airbnb is a crucial factor for the company. Our main objective is to find out the key metrics that influence the listing of properties on the platform. For this, we will explore and visualize the dataset from Airbnb in NYC using basic exploratory data analysis (EDA) techniques. We have found out the distribution of every Airbnb listing based on their location, including their price range, room type, listing name, and other related factors. We have analyzed this dataset from different angles and have come up with interesting insights. This can help in making strategic data-driven decisions by the marketing team, finance team and technical team of Airbnb."
      ],
      "metadata": {
        "id": "F6v_1wHtG2nS"
      }
    },
    {
      "cell_type": "markdown",
      "source": [
        "# **GitHub Link -**"
      ],
      "metadata": {
        "id": "w6K7xa23Elo4"
      }
    },
    {
      "cell_type": "markdown",
      "source": [
        "https://github.com/MDRIZWANKHAN/EDA-on-airbnb-booking-analysis"
      ],
      "metadata": {
        "id": "h1o69JH3Eqqn"
      }
    },
    {
      "cell_type": "markdown",
      "source": [
        "# **Problem Statement**\n"
      ],
      "metadata": {
        "id": "yQaldy8SH6Dl"
      }
    },
    {
      "cell_type": "markdown",
      "source": [
        "The Problem Statement of EDA on Airbnb can be a Problem or issue that we are trying to solve, First we have to understand the trend and pattern of data and according to that we have to answer the following qustions-:\n",
        "1. Airbnb service available in which locations.\n",
        "2. Which type of rooms are available, and how it is related with price.\n",
        "3. Which host is listing more no of apartments.\n",
        "4. Which location is most demanding.\n",
        "5. What types of properties are available in most demanding location.\n",
        "6. Availability of room types.\n",
        "7. How no of reviews related with price.\n",
        "8. How many apartments are available in most demanding location whose minimum night of staying is high.\n",
        "9. Which neighbourhood group is getting more number of reviews.\n",
        "\n",
        "\n",
        "\n"
      ],
      "metadata": {
        "id": "DpeJGUA3kjGy"
      }
    },
    {
      "cell_type": "markdown",
      "source": [
        "#### **Define Your Business Objective?**"
      ],
      "metadata": {
        "id": "PH-0ReGfmX4f"
      }
    },
    {
      "cell_type": "markdown",
      "source": [
        "Here Business Objective is-:\n",
        "\n",
        " Getting insights from the Airbnb dataset after doing Exploratory data analysis, and suggest Airbnb to take some decisions which may be create positive impact on business."
      ],
      "metadata": {
        "id": "PhDvGCAqmjP1"
      }
    },
    {
      "cell_type": "markdown",
      "source": [
        "# **General Guidelines** : -"
      ],
      "metadata": {
        "id": "mDgbUHAGgjLW"
      }
    },
    {
      "cell_type": "markdown",
      "source": [
        "1.   Well-structured, formatted, and commented code is required.\n",
        "2.   Exception Handling, Production Grade Code & Deployment Ready Code will be a plus. Those students will be awarded some additional credits.\n",
        "\n",
        "     The additional credits will have advantages over other students during Star Student selection.\n",
        "\n",
        "             [ Note: - Deployment Ready Code is defined as, the whole .ipynb notebook should be executable in one go\n",
        "                       without a single error logged. ]\n",
        "\n",
        "3.   Each and every logic should have proper comments.\n",
        "4. You may add as many number of charts you want. Make Sure for each and every chart the following format should be answered.\n",
        "\n",
        "\n",
        "```\n",
        "# Chart visualization code\n",
        "```\n",
        "\n",
        "\n",
        "*   Why did you pick the specific chart?\n",
        "*   What is/are the insight(s) found from the chart?\n",
        "* Will the gained insights help creating a positive business impact?\n",
        "Are there any insights that lead to negative growth? Justify with specific reason.\n",
        "\n",
        "5. You have to create at least 20 logical & meaningful charts having important insights.\n",
        "\n",
        "\n",
        "[ Hints : - Do the Vizualization in  a structured way while following \"UBM\" Rule.\n",
        "\n",
        "U - Univariate Analysis,\n",
        "\n",
        "B - Bivariate Analysis (Numerical - Categorical, Numerical - Numerical, Categorical - Categorical)\n",
        "\n",
        "M - Multivariate Analysis\n",
        " ]\n",
        "\n",
        "\n",
        "\n"
      ],
      "metadata": {
        "id": "ZrxVaUj-hHfC"
      }
    },
    {
      "cell_type": "markdown",
      "source": [
        "# ***Let's Begin !***"
      ],
      "metadata": {
        "id": "O_i_v8NEhb9l"
      }
    },
    {
      "cell_type": "markdown",
      "source": [
        "## ***1. Know Your Data***"
      ],
      "metadata": {
        "id": "HhfV-JJviCcP"
      }
    },
    {
      "cell_type": "markdown",
      "source": [
        "### Import Libraries"
      ],
      "metadata": {
        "id": "Y3lxredqlCYt"
      }
    },
    {
      "cell_type": "code",
      "source": [
        "# Import Libraries\n",
        "import numpy as np\n",
        "import pandas as pd\n",
        "import matplotlib.pyplot as plt\n",
        "import seaborn as sns\n",
        "import missingno as msno #(import for missing value visualization)"
      ],
      "metadata": {
        "id": "M8Vqi-pPk-HR"
      },
      "execution_count": null,
      "outputs": []
    },
    {
      "cell_type": "markdown",
      "source": [
        "### Dataset Loading"
      ],
      "metadata": {
        "id": "3RnN4peoiCZX"
      }
    },
    {
      "cell_type": "code",
      "source": [
        "# Load Dataset\n",
        "from google.colab import drive\n",
        "drive.mount('/content/drive')"
      ],
      "metadata": {
        "id": "4CkvbW_SlZ_R"
      },
      "execution_count": null,
      "outputs": []
    },
    {
      "cell_type": "code",
      "source": [
        "# lets load dataset and store into variable as airbnb.\n",
        "airbnb= pd.read_csv('/content/drive/MyDrive/Airbnb NYC 2019 (1).csv')"
      ],
      "metadata": {
        "id": "R-Op-DCYWNa1"
      },
      "execution_count": null,
      "outputs": []
    },
    {
      "cell_type": "markdown",
      "source": [
        "### Dataset First View"
      ],
      "metadata": {
        "id": "x71ZqKXriCWQ"
      }
    },
    {
      "cell_type": "code",
      "source": [
        "# Dataset First Look\n",
        "\n",
        "#To check dataset we can use-:\n",
        "#1. head()- gives rows from upper\n",
        "#2. tail()- gives rows from lower\n",
        "#3. sample()- gives rows randomly(useful for check bias in dataset)"
      ],
      "metadata": {
        "id": "LWNFOSvLl09H"
      },
      "execution_count": null,
      "outputs": []
    },
    {
      "cell_type": "code",
      "source": [
        "airbnb.head(5)"
      ],
      "metadata": {
        "id": "Zd1H6elwXtNt"
      },
      "execution_count": null,
      "outputs": []
    },
    {
      "cell_type": "markdown",
      "source": [
        "### Dataset Rows & Columns count"
      ],
      "metadata": {
        "id": "7hBIi_osiCS2"
      }
    },
    {
      "cell_type": "code",
      "source": [
        "# Dataset Rows & Columns count\n",
        "# To check dataset rows and columns use-:\n",
        "# 1. shape- gives count of rows and column in tuple form (rows,columns)\n",
        "# 2. len()- only give no of rows\n",
        "len(airbnb)"
      ],
      "metadata": {
        "id": "Kllu7SJgmLij"
      },
      "execution_count": null,
      "outputs": []
    },
    {
      "cell_type": "code",
      "source": [
        "airbnb.shape"
      ],
      "metadata": {
        "id": "gYJa3IwnZKEF"
      },
      "execution_count": null,
      "outputs": []
    },
    {
      "cell_type": "markdown",
      "source": [
        "### Dataset Information"
      ],
      "metadata": {
        "id": "JlHwYmJAmNHm"
      }
    },
    {
      "cell_type": "code",
      "source": [
        "# Dataset Info\n",
        "# Info function will give high level information about dataset like-:\n",
        "# 1. total no of columns\n",
        "# 2. total no of missing value present in each columns\n",
        "# 3. datatype of data present in each columns\n",
        "# 4. gives memory occupy of dataset in ram"
      ],
      "metadata": {
        "id": "e9hRXRi6meOf"
      },
      "execution_count": null,
      "outputs": []
    },
    {
      "cell_type": "code",
      "source": [
        "airbnb.info()"
      ],
      "metadata": {
        "id": "BPggD3hIey8L"
      },
      "execution_count": null,
      "outputs": []
    },
    {
      "cell_type": "markdown",
      "source": [
        "#### Duplicate Values"
      ],
      "metadata": {
        "id": "35m5QtbWiB9F"
      }
    },
    {
      "cell_type": "code",
      "source": [
        "# Dataset Duplicate Value Count-:\n",
        "\n",
        "# to check duplicate value use duplicated()function.it will give result in boolean.\n",
        "# Use sum() function with duplicated() gives total no of duplicated values.\n",
        "\n",
        "airbnb.duplicated().sum()"
      ],
      "metadata": {
        "id": "1sLdpKYkmox0"
      },
      "execution_count": null,
      "outputs": []
    },
    {
      "cell_type": "markdown",
      "source": [
        "#### Missing Values/Null Values"
      ],
      "metadata": {
        "id": "PoPl-ycgm1ru"
      }
    },
    {
      "cell_type": "code",
      "source": [
        "# Missing Values/Null Values Count\n",
        "airbnb.isnull().sum()"
      ],
      "metadata": {
        "id": "GgHWkxvamxVg"
      },
      "execution_count": null,
      "outputs": []
    },
    {
      "cell_type": "code",
      "source": [
        "# Visualizing the missing values\n",
        "\n",
        "# To visualize missing values we have to import missingno library-:\n",
        "\n",
        "msno.bar(airbnb) # This is code to visualize missing values.Here i am using bar graph we can use other graph also like heatmap etc."
      ],
      "metadata": {
        "id": "3q5wnI3om9sJ"
      },
      "execution_count": null,
      "outputs": []
    },
    {
      "cell_type": "markdown",
      "source": [
        "### What did you know about your dataset?"
      ],
      "metadata": {
        "id": "H0kj-8xxnORC"
      }
    },
    {
      "cell_type": "markdown",
      "source": [
        "Information that i got from this dataset-:\n",
        "\n",
        "* In this dataset there is rows=48895,colun=16\n",
        "* There is 3 types of Dtype present in this dataset i.e int64(7),object(6),float64(3).\n",
        "* No duplicated value present in this dataset.\n",
        "* There is some missing values present in reviews_per_month,number_of_reviews\tand host_name column."
      ],
      "metadata": {
        "id": "gfoNAAC-nUe_"
      }
    },
    {
      "cell_type": "markdown",
      "source": [
        "## ***2. Understanding Your Variables***"
      ],
      "metadata": {
        "id": "nA9Y7ga8ng1Z"
      }
    },
    {
      "cell_type": "code",
      "source": [
        "# Dataset Columns\n",
        "# this will give list of all columns available in dataset-\n",
        "airbnb.columns"
      ],
      "metadata": {
        "id": "j7xfkqrt5Ag5"
      },
      "execution_count": null,
      "outputs": []
    },
    {
      "cell_type": "code",
      "source": [
        "# Dataset Describe\n",
        "# Describe will give statistical\n",
        "airbnb.describe()"
      ],
      "metadata": {
        "id": "DnOaZdaE5Q5t"
      },
      "execution_count": null,
      "outputs": []
    },
    {
      "cell_type": "markdown",
      "source": [
        "### Variables Description"
      ],
      "metadata": {
        "id": "PBTbrJXOngz2"
      }
    },
    {
      "cell_type": "markdown",
      "source": [
        "* id: listing ID\n",
        "\n",
        "* name: name of the listing\n",
        "\n",
        "* host_id: host ID\n",
        "\n",
        "* host_name: name of the host\n",
        "\n",
        "* neighbourhood_group: location\n",
        "\n",
        "* neighbourhood: area\n",
        "\n",
        "* latitude: latitude coordinates\n",
        "\n",
        "* longitude: longitude coordinates\n",
        "\n",
        "* room_type: listing space type\n",
        "\n",
        "* price: price in dollars\n",
        "\n",
        "* minimum_nights: amount of nights minimum\n",
        "\n",
        "* number_of_reviews: number of reviews\n",
        "\n",
        "* last_review: latest review\n",
        "\n",
        "* reviews_per_month: number of reviews per month\n",
        "\n",
        "* calculated_host_listings_count: amount of listing per host\n",
        "\n",
        "* availability_365: number of days when listing is available for booking"
      ],
      "metadata": {
        "id": "aJV4KIxSnxay"
      }
    },
    {
      "cell_type": "markdown",
      "source": [
        "### Check Unique Values for each variable."
      ],
      "metadata": {
        "id": "u3PMJOP6ngxN"
      }
    },
    {
      "cell_type": "code",
      "source": [
        "# Check Unique Values for each variable.\n",
        "for i in airbnb.columns:\n",
        "  print(\"No. of unique values in \",i,\"is\",airbnb[i].nunique(),\".\")"
      ],
      "metadata": {
        "id": "zms12Yq5n-jE"
      },
      "execution_count": null,
      "outputs": []
    },
    {
      "cell_type": "markdown",
      "source": [
        "## 3. ***Data Wrangling***"
      ],
      "metadata": {
        "id": "dauF4eBmngu3"
      }
    },
    {
      "cell_type": "markdown",
      "source": [
        "### Data Wrangling Code"
      ],
      "metadata": {
        "id": "bKJF3rekwFvQ"
      }
    },
    {
      "cell_type": "code",
      "source": [
        "# Write your code to make your dataset analysis ready.\n",
        "# Here i drop id because id is not relavent to analysis, host_name has many duplicate values so it will difficult to identify person whose name is same,so i dropped.\n",
        "# Last review is also not very useful for analysis because may be some apartments was available earliar but now not available so this information can be mislead.\n",
        "airbnb.drop(['id','host_name','last_review'], axis=1, inplace=True)\n",
        "\n",
        "airbnb.head(5)"
      ],
      "metadata": {
        "id": "wk-9a2fpoLcV"
      },
      "execution_count": null,
      "outputs": []
    },
    {
      "cell_type": "code",
      "source": [
        "# There is some missing values so lets fill it to 0.\n",
        "airbnb.fillna({'reviews_per_month':0},inplace=True)\n",
        "\n",
        "airbnb.reviews_per_month.isnull().sum()"
      ],
      "metadata": {
        "id": "1A_vD5yYxB4O"
      },
      "execution_count": null,
      "outputs": []
    },
    {
      "cell_type": "code",
      "source": [
        "airbnb.isnull().sum()"
      ],
      "metadata": {
        "id": "Ljvtu3LhxPL2"
      },
      "execution_count": null,
      "outputs": []
    },
    {
      "cell_type": "markdown",
      "source": [
        "### What all manipulations have you done and insights you found?"
      ],
      "metadata": {
        "id": "MSa1f5Uengrz"
      }
    },
    {
      "cell_type": "markdown",
      "source": [
        "Answer Here."
      ],
      "metadata": {
        "id": "LbyXE7I1olp8"
      }
    },
    {
      "cell_type": "markdown",
      "source": [
        "## ***4. Data Vizualization, Storytelling & Experimenting with charts : Understand the relationships between variables***"
      ],
      "metadata": {
        "id": "GF8Ens_Soomf"
      }
    },
    {
      "cell_type": "markdown",
      "source": [],
      "metadata": {
        "id": "0wOQAZs5pc--"
      }
    },
    {
      "cell_type": "code",
      "source": [
        "airbnb.head(1)"
      ],
      "metadata": {
        "id": "aaqtuJ3wyPKL"
      },
      "execution_count": null,
      "outputs": []
    },
    {
      "cell_type": "code",
      "source": [
        "# Chart - 1 visualization code"
      ],
      "metadata": {
        "id": "7v_ESjsspbW7"
      },
      "execution_count": null,
      "outputs": []
    },
    {
      "cell_type": "code",
      "source": [
        "# lets see how many listings are available at different locations-\n",
        "airbnb.groupby('neighbourhood_group')['neighbourhood'].count().sort_values(ascending=False)"
      ],
      "metadata": {
        "id": "P5CL3DRL2JVB"
      },
      "execution_count": null,
      "outputs": []
    },
    {
      "cell_type": "code",
      "source": [
        "sns.countplot(airbnb.neighbourhood_group)\n",
        "plt.show()\n",
        "plt.show()"
      ],
      "metadata": {
        "id": "EMpbZJUy4eUm"
      },
      "execution_count": null,
      "outputs": []
    },
    {
      "cell_type": "markdown",
      "source": [
        "##### 1. Why did you pick the specific chart?"
      ],
      "metadata": {
        "id": "K5QZ13OEpz2H"
      }
    },
    {
      "cell_type": "markdown",
      "source": [
        "1. Because we are doing univariate analysis on categorical Column.\n",
        "2. For categorical variables Bar chart is best option.\n",
        "3. For doing comparision on categorical variables Bar chart is best."
      ],
      "metadata": {
        "id": "XESiWehPqBRc"
      }
    },
    {
      "cell_type": "markdown",
      "source": [
        "##### 2. What is/are the insight(s) found from the chart?"
      ],
      "metadata": {
        "id": "lQ7QKXXCp7Bj"
      }
    },
    {
      "cell_type": "markdown",
      "source": [
        "1. There are 5 neighbourhood_group(Location) where airbnb nyc apartments are available.\n",
        "2. Manhattan is the place where no of apartments are more in compared to others.\n",
        "3. Staten island is the place where least no of apartments are available."
      ],
      "metadata": {
        "id": "C_j1G7yiqdRP"
      }
    },
    {
      "cell_type": "markdown",
      "source": [
        "##### 3. Will the gained insights help creating a positive business impact?\n",
        "Are there any insights that lead to negative growth? Justify with specific reason."
      ],
      "metadata": {
        "id": "448CDAPjqfQr"
      }
    },
    {
      "cell_type": "markdown",
      "source": [
        "Yes, I think gained insights helps to create positive impact on business.\n",
        "\n",
        "* If airbnb target other locations like Staten Island ,Queens and Bronx for listing more apartments,along with if given any offer on booking for those locations then there is a chance that guests can prefer those locations also for booking.\n",
        "* If booking increases by doing this then there will be growth in the business."
      ],
      "metadata": {
        "id": "3cspy4FjqxJW"
      }
    },
    {
      "cell_type": "markdown",
      "source": [
        "#### Chart - 2"
      ],
      "metadata": {
        "id": "KSlN3yHqYklG"
      }
    },
    {
      "cell_type": "code",
      "source": [
        "# Chart - 2 visualization code"
      ],
      "metadata": {
        "id": "R4YgtaqtYklH"
      },
      "execution_count": null,
      "outputs": []
    },
    {
      "cell_type": "code",
      "source": [
        "# lets see list top 10 of host_id and corresponding to their no of listing-\n",
        "df=airbnb.host_id.value_counts(ascending=False).head(10).reset_index()\n",
        "df"
      ],
      "metadata": {
        "id": "sK2DaHWR6DD5"
      },
      "execution_count": null,
      "outputs": []
    },
    {
      "cell_type": "code",
      "source": [
        "# we got df where name of column is not proper so there will be problem while plotting graph,so lets rename them-\n",
        "df.rename(columns={'index':'host_id','host_id':'no_of_listings'},inplace='True')\n",
        "df"
      ],
      "metadata": {
        "id": "LiY8ARN8RW0E"
      },
      "execution_count": null,
      "outputs": []
    },
    {
      "cell_type": "code",
      "source": [
        "sns.barplot(data=df,x='host_id',y='no_of_listings')\n",
        "plt.xticks(rotation='vertical')\n",
        "plt.show()"
      ],
      "metadata": {
        "id": "tBE8J6lC8xSY"
      },
      "execution_count": null,
      "outputs": []
    },
    {
      "cell_type": "markdown",
      "source": [
        "##### 1. Why did you pick the specific chart?"
      ],
      "metadata": {
        "id": "t6dVpIINYklI"
      }
    },
    {
      "cell_type": "markdown",
      "source": [
        "1. For doing comparision  Bar chart is best.\n",
        "2. Bar chart will keep categories  on one axis and respective values on another axis,so we can do comparision easily."
      ],
      "metadata": {
        "id": "5aaW0BYyYklI"
      }
    },
    {
      "cell_type": "markdown",
      "source": [
        "##### 2. What is/are the insight(s) found from the chart?"
      ],
      "metadata": {
        "id": "ijmpgYnKYklI"
      }
    },
    {
      "cell_type": "markdown",
      "source": [
        "Answer Here"
      ],
      "metadata": {
        "id": "PSx9atu2YklI"
      }
    },
    {
      "cell_type": "markdown",
      "source": [
        "##### 3. Will the gained insights help creating a positive business impact?\n",
        "Are there any insights that lead to negative growth? Justify with specific reason."
      ],
      "metadata": {
        "id": "-JiQyfWJYklI"
      }
    },
    {
      "cell_type": "markdown",
      "source": [
        "Answer Here"
      ],
      "metadata": {
        "id": "BcBbebzrYklV"
      }
    },
    {
      "cell_type": "code",
      "source": [
        "airbnb.head(1)"
      ],
      "metadata": {
        "id": "C4u9WVrwiBI6"
      },
      "execution_count": null,
      "outputs": []
    },
    {
      "cell_type": "markdown",
      "source": [
        "#### Chart - 3"
      ],
      "metadata": {
        "id": "EM7whBJCYoAo"
      }
    },
    {
      "cell_type": "code",
      "source": [
        "# Chart - 3 visualization code\n",
        "# lets see how many room types available and what numbers.\n",
        "df1= airbnb['room_type'].value_counts().reset_index()"
      ],
      "metadata": {
        "id": "t6GMdE67YoAp"
      },
      "execution_count": null,
      "outputs": []
    },
    {
      "cell_type": "code",
      "source": [
        "# we got df where name of column is not proper so there will be problem while plotting graph,so lets rename them-\n",
        "df1.rename(columns={'index':'room_type','room_type':'counts'},inplace=True)\n",
        "df1"
      ],
      "metadata": {
        "id": "YVsc8NoRUcgL"
      },
      "execution_count": null,
      "outputs": []
    },
    {
      "cell_type": "code",
      "source": [
        "plt.figure(figsize=(7,7))\n",
        "sns.barplot(data=df1,x='room_type',y='counts')\n",
        "plt.show()"
      ],
      "metadata": {
        "id": "CErL_1ZVjH_h"
      },
      "execution_count": null,
      "outputs": []
    },
    {
      "cell_type": "code",
      "source": [
        "airbnb['room_type'].value_counts().plot(kind='pie',autopct='%0.1f%%')\n",
        "plt.show()"
      ],
      "metadata": {
        "id": "uzRU1olvjvNi"
      },
      "execution_count": null,
      "outputs": []
    },
    {
      "cell_type": "markdown",
      "source": [
        "##### 1. Why did you pick the specific chart?"
      ],
      "metadata": {
        "id": "fge-S5ZAYoAp"
      }
    },
    {
      "cell_type": "markdown",
      "source": [
        "FOR BAR CHART-:\n",
        "\n",
        "1. we can use bar chart for comparision between categorical variables.\n",
        "\n",
        "FOR PIE CHART-:\n",
        "\n",
        "1. Here i want to see the distribution in percentage of entire room types indivisually,for this reason i used pie chart.\n"
      ],
      "metadata": {
        "id": "5dBItgRVYoAp"
      }
    },
    {
      "cell_type": "markdown",
      "source": [
        "##### 2. What is/are the insight(s) found from the chart?"
      ],
      "metadata": {
        "id": "85gYPyotYoAp"
      }
    },
    {
      "cell_type": "markdown",
      "source": [
        "Insights-:\n",
        "1. There are 3 types of room type available.\n",
        "  * entire home/apt\n",
        "  * private room\n",
        "  * shared room\n",
        "2. The sequence of room type available is\n",
        "    Entire room > private room > shared room\n",
        "3. The contribution of Entire room is 52% ,private room is 45.7% and shared room is 2.4%."
      ],
      "metadata": {
        "id": "4jstXR6OYoAp"
      }
    },
    {
      "cell_type": "markdown",
      "source": [
        "##### 3. Will the gained insights help creating a positive business impact?\n",
        "Are there any insights that lead to negative growth? Justify with specific reason."
      ],
      "metadata": {
        "id": "RoGjAbkUYoAp"
      }
    },
    {
      "cell_type": "markdown",
      "source": [
        "* yes, the gained insights can help for business-:\n",
        "* Here we can say that contribution of entire rooms and private rooms are more,means there is more demand of these rooms,so we can increase the no of count of these rooms."
      ],
      "metadata": {
        "id": "zfJ8IqMcYoAp"
      }
    },
    {
      "cell_type": "code",
      "source": [
        "airbnb.head(2)"
      ],
      "metadata": {
        "id": "x_nylToktTnk"
      },
      "execution_count": null,
      "outputs": []
    },
    {
      "cell_type": "markdown",
      "source": [
        "#### Chart - 4"
      ],
      "metadata": {
        "id": "4Of9eVA-YrdM"
      }
    },
    {
      "cell_type": "code",
      "source": [
        "# Chart - 4 visualization code\n",
        "\n",
        "plt.figure(figsize=(8,8)) # code is used to control the size of plot-\n",
        "airbnb['minimum_nights'].value_counts().sort_values(ascending=False).head(20).plot(kind='bar')# lets see no of apartments accordig to their minimum night staying-\n",
        "plt.show()\n",
        "\n",
        "plt.figure(figsize=(8,8))\n",
        "airbnb['minimum_nights'].value_counts().sort_values(ascending=False).head(8).plot(kind='pie',autopct='%0.1f%%')\n",
        "plt.show()"
      ],
      "metadata": {
        "id": "irlUoxc8YrdO"
      },
      "execution_count": null,
      "outputs": []
    },
    {
      "cell_type": "markdown",
      "source": [
        "##### 1. Why did you pick the specific chart?"
      ],
      "metadata": {
        "id": "iky9q4vBYrdO"
      }
    },
    {
      "cell_type": "markdown",
      "source": [
        "* I picked bar chart because bar chart keep categories in one axis and respective values in another axis so will do comparision easily.\n",
        "* when there is too many categories to draw, In this case bar chart is give better comparision.\n",
        "* But here i used pie chart also in limited categories to just see the contribution of apartments that we have to booked for minimum how many days."
      ],
      "metadata": {
        "id": "aJRCwT6DYrdO"
      }
    },
    {
      "cell_type": "markdown",
      "source": [
        "##### 2. What is/are the insight(s) found from the chart?"
      ],
      "metadata": {
        "id": "F6T5p64dYrdO"
      }
    },
    {
      "cell_type": "markdown",
      "source": [
        "1. There are many apartments which contribute 28.1% for minimum of one night, 25.8% for two nights and 17.6% for three nights etc. which we can book for.\n",
        "2. There are many apartments where minimum night for booking is very high."
      ],
      "metadata": {
        "id": "Xx8WAJvtYrdO"
      }
    },
    {
      "cell_type": "markdown",
      "source": [
        "##### 3. Will the gained insights help creating a positive business impact?\n",
        "Are there any insights that lead to negative growth? Justify with specific reason."
      ],
      "metadata": {
        "id": "y-Ehk30pYrdP"
      }
    },
    {
      "cell_type": "markdown",
      "source": [
        "Insights which create positive business growth-:\n",
        "\n",
        "* On the basis of insights we can increase the number of listing of apartments where booking for minimum nights is 1 or 2. Because peoples would not like to book those apartments whose minimum nights for staying is high.\n",
        "* So if there will be no burden of minimum night staying at the apartments then there is a chance for more booking.\n",
        "\n",
        "According to my point of view there is some insights which lead to negative growth of business.\n",
        "\n",
        "* There are some 8.3% apartments where we can book for minimum 30 days and many more apartments where minimum night for booking is very high.\n",
        "* There are very less peoples who prefer for booking apartments where minimum night for staying is very high.\n",
        "* If any apartments are not vacant whose minimum night for staying is less in this time if new peoples comes and he/she doesn't prefer those apartments whose minimum night staying is high then definitely he/she will give negative reviews.\n",
        "* All these negative reviews will put negative impact on business."
      ],
      "metadata": {
        "id": "jLNxxz7MYrdP"
      }
    },
    {
      "cell_type": "markdown",
      "source": [
        "#### Chart - 5"
      ],
      "metadata": {
        "id": "bamQiAODYuh1"
      }
    },
    {
      "cell_type": "code",
      "source": [
        "# Chart - 5 visualization code\n",
        "# lets see correlation between latitude and longitude along with location-\n",
        "sns.scatterplot(data=airbnb,x=airbnb['latitude'],y=airbnb['longitude'],hue='neighbourhood_group')\n",
        "plt.show()"
      ],
      "metadata": {
        "id": "TIJwrbroYuh3"
      },
      "execution_count": null,
      "outputs": []
    },
    {
      "cell_type": "markdown",
      "source": [
        "##### 1. Why did you pick the specific chart?"
      ],
      "metadata": {
        "id": "QHF8YVU7Yuh3"
      }
    },
    {
      "cell_type": "markdown",
      "source": [
        "* I picked this chart because we are doing bivariate analysis on both numerical columns.\n",
        "* For numerical-numerical Scatter plot is the best option.\n",
        "* I just want to know the correlation between both the variables and Scatterplot gives correlation between numerical columns."
      ],
      "metadata": {
        "id": "dcxuIMRPYuh3"
      }
    },
    {
      "cell_type": "markdown",
      "source": [
        "##### 2. What is/are the insight(s) found from the chart?"
      ],
      "metadata": {
        "id": "GwzvFGzlYuh3"
      }
    },
    {
      "cell_type": "markdown",
      "source": [
        "* We can clearly see in scatter plot that Manhattan has very densed bcoz more apartment in Manhattan and Staten Island is very less densed.\n"
      ],
      "metadata": {
        "id": "uyqkiB8YYuh3"
      }
    },
    {
      "cell_type": "markdown",
      "source": [
        "##### 3. Will the gained insights help creating a positive business impact?\n",
        "Are there any insights that lead to negative growth? Justify with specific reason."
      ],
      "metadata": {
        "id": "qYpmQ266Yuh3"
      }
    },
    {
      "cell_type": "markdown",
      "source": [
        "Answer Here"
      ],
      "metadata": {
        "id": "_WtzZ_hCYuh4"
      }
    },
    {
      "cell_type": "markdown",
      "source": [
        "#### Chart - 6"
      ],
      "metadata": {
        "id": "OH-pJp9IphqM"
      }
    },
    {
      "cell_type": "code",
      "source": [
        "# Chart - 6 visualization code\n",
        "plt.figure(figsize=(15,7))\n",
        "sns.scatterplot(data=airbnb,x=airbnb['latitude'],y=airbnb['longitude'],hue='room_type')\n",
        "plt.show()"
      ],
      "metadata": {
        "id": "kuRf4wtuphqN"
      },
      "execution_count": null,
      "outputs": []
    },
    {
      "cell_type": "markdown",
      "source": [
        "##### 1. Why did you pick the specific chart?"
      ],
      "metadata": {
        "id": "bbFf2-_FphqN"
      }
    },
    {
      "cell_type": "markdown",
      "source": [
        "* I picked up this chart i want to know the correlation between the numerical columns.\n",
        "* scatter plot gives correlation between two numerical columns.\n",
        "* Here i used hue---> it will add extra information on chart mostly in hue parameter categorical variable passes."
      ],
      "metadata": {
        "id": "loh7H2nzphqN"
      }
    },
    {
      "cell_type": "markdown",
      "source": [
        "##### 2. What is/are the insight(s) found from the chart?"
      ],
      "metadata": {
        "id": "_ouA3fa0phqN"
      }
    },
    {
      "cell_type": "markdown",
      "source": [
        "Insights-:\n",
        "* There are very less no of listing of shared rooms compare to others.\n",
        "* There are more densed area found at medium level of lattitude and longitude.\n",
        "* private rooms are more densed at high lattitude.\n",
        "* There are certain private and entire rooms which are available at high longitude."
      ],
      "metadata": {
        "id": "VECbqPI7phqN"
      }
    },
    {
      "cell_type": "markdown",
      "source": [
        "##### 3. Will the gained insights help creating a positive business impact?\n",
        "Are there any insights that lead to negative growth? Justify with specific reason."
      ],
      "metadata": {
        "id": "Seke61FWphqN"
      }
    },
    {
      "cell_type": "markdown",
      "source": [
        "yes, gained insights help to create posive business growth-:\n",
        "* There is certain areas which is more demanded and listing of apartment is also more.\n",
        "* This will help to take decision for where listing should be more or less."
      ],
      "metadata": {
        "id": "DW4_bGpfphqN"
      }
    },
    {
      "cell_type": "code",
      "source": [
        "airbnb.head(3)"
      ],
      "metadata": {
        "id": "VREt6f8g_fwp"
      },
      "execution_count": null,
      "outputs": []
    },
    {
      "cell_type": "markdown",
      "source": [
        "#### Chart - 7"
      ],
      "metadata": {
        "id": "PIIx-8_IphqN"
      }
    },
    {
      "cell_type": "code",
      "source": [
        "airbnb.head(2)"
      ],
      "metadata": {
        "id": "SbEyYFdu3_38"
      },
      "execution_count": null,
      "outputs": []
    },
    {
      "cell_type": "code",
      "source": [
        "# Chart - 7 visualization code\n",
        "# this code will give me all the apartments where minimum nights for booking is 30 at Manhattan.\n",
        "airbnb[(airbnb['neighbourhood_group']=='Manhattan') & (airbnb['minimum_nights']==30)].shape[0]\n",
        "\n"
      ],
      "metadata": {
        "id": "lqAIGUfyphqO"
      },
      "execution_count": null,
      "outputs": []
    },
    {
      "cell_type": "code",
      "source": [
        "# code for getting all apartments where minimum nights for booking is 30 at Manhattan.\n",
        "df1=airbnb[(airbnb['neighbourhood_group']=='Manhattan') & (airbnb['minimum_nights']==30)]\n"
      ],
      "metadata": {
        "id": "o9ryw2e7_t41"
      },
      "execution_count": null,
      "outputs": []
    },
    {
      "cell_type": "code",
      "source": [
        "df2=df1['neighbourhood_group'].value_counts().reset_index()\n",
        "sns.barplot(data=df2,x='index',y='neighbourhood_group')\n"
      ],
      "metadata": {
        "id": "2iB8ff_g-_fB"
      },
      "execution_count": null,
      "outputs": []
    },
    {
      "cell_type": "markdown",
      "source": [
        "##### 1. Why did you pick the specific chart?"
      ],
      "metadata": {
        "id": "t27r6nlMphqO"
      }
    },
    {
      "cell_type": "markdown",
      "source": [
        "* I picked bar chart because it will give categorical variable on one axis and corresponding value on another axis."
      ],
      "metadata": {
        "id": "iv6ro40sphqO"
      }
    },
    {
      "cell_type": "markdown",
      "source": [
        "##### 2. What is/are the insight(s) found from the chart?"
      ],
      "metadata": {
        "id": "r2jJGEOYphqO"
      }
    },
    {
      "cell_type": "markdown",
      "source": [
        "Insights-:\n",
        "\n",
        "* There are 2399 apartments which are located in Manhattan for minimum nights booking is 30."
      ],
      "metadata": {
        "id": "Po6ZPi4hphqO"
      }
    },
    {
      "cell_type": "markdown",
      "source": [
        "##### 3. Will the gained insights help creating a positive business impact?\n",
        "Are there any insights that lead to negative growth? Justify with specific reason."
      ],
      "metadata": {
        "id": "b0JNsNcRphqO"
      }
    },
    {
      "cell_type": "markdown",
      "source": [
        "Yes definitely gained insights will impact on business for growing\n",
        "\n",
        "* Here Manhattan is the place where peoples would like to stay more among others place.\n",
        "* But there is 2399 apartments in Manhattan where booking for minimum nights is 30. which most peoples wouldn't like to book that type of apartments.so airbnb should list those apartments which has minimum nights for staying is less.\n",
        "* Because any guest wouldn't getting apartments which has less minimum nights stay those guest shouldn't leave because of apartments which has minimum nights staying is more."
      ],
      "metadata": {
        "id": "xvSq8iUTphqO"
      }
    },
    {
      "cell_type": "code",
      "source": [
        "airbnb.shape"
      ],
      "metadata": {
        "id": "N0KMJgq4f_YT"
      },
      "execution_count": null,
      "outputs": []
    },
    {
      "cell_type": "markdown",
      "source": [
        "#### Chart - 8"
      ],
      "metadata": {
        "id": "BZR9WyysphqO"
      }
    },
    {
      "cell_type": "code",
      "source": [
        "# Chart - 8 visualization code\n",
        "# This code will give all the rooms which are not available for 365 days and convert it into dataframe.\n",
        "df2=airbnb[airbnb['availability_365']==0].groupby('room_type').count()['availability_365'].reset_index()"
      ],
      "metadata": {
        "id": "TdPTWpAVphqO"
      },
      "execution_count": null,
      "outputs": []
    },
    {
      "cell_type": "code",
      "source": [
        "sns.barplot(data=df2,x=df2['room_type'],y=df2['availability_365'])"
      ],
      "metadata": {
        "id": "HnIxaVP7dVa_"
      },
      "execution_count": null,
      "outputs": []
    },
    {
      "cell_type": "code",
      "source": [
        "plt.figure(figsize=(15,7))\n",
        "plt.pie(df2['availability_365'],labels=df2['room_type'],autopct='%0.1f%%',explode=[0,0,0.5],shadow=True)\n",
        "plt.show()"
      ],
      "metadata": {
        "id": "gPRxpgA0dnJd"
      },
      "execution_count": null,
      "outputs": []
    },
    {
      "cell_type": "markdown",
      "source": [
        "##### 1. Why did you pick the specific chart?"
      ],
      "metadata": {
        "id": "jj7wYXLtphqO"
      }
    },
    {
      "cell_type": "markdown",
      "source": [
        "* I used bar chart because i want to compare the room_type corresponding to availability.\n",
        "* I picked pie chart because pie chart gives contribution of each categories indivisually."
      ],
      "metadata": {
        "id": "Ob8u6rCTphqO"
      }
    },
    {
      "cell_type": "markdown",
      "source": [
        "##### 2. What is/are the insight(s) found from the chart?"
      ],
      "metadata": {
        "id": "eZrbJ2SmphqO"
      }
    },
    {
      "cell_type": "markdown",
      "source": [
        "* First of all i wrote the code for availability column and i got  those values which is not available 365 days.\n",
        "* I got to know that in every categories there are some rooms which are not available for 365 days.\n",
        "* Like 50.6% of Entire room is not available for 365 days, 47.7% of private room and 1.7% of shared room which are not available for 365 days."
      ],
      "metadata": {
        "id": "mZtgC_hjphqO"
      }
    },
    {
      "cell_type": "markdown",
      "source": [
        "##### 3. Will the gained insights help creating a positive business impact?\n",
        "Are there any insights that lead to negative growth? Justify with specific reason."
      ],
      "metadata": {
        "id": "rFu4xreNphqO"
      }
    },
    {
      "cell_type": "markdown",
      "source": [
        "* Yes insights help to create positive business. Here are some points if followed by airbnb then it could be heplfull for business growth.\n",
        "\n",
        "* I think there should be listing for those rooms which are available for 365 days.\n",
        "* Because of this guest will gets rooms for 365 days and they satisfied for airbnb services and give good reviews."
      ],
      "metadata": {
        "id": "ey_0qi68phqO"
      }
    },
    {
      "cell_type": "code",
      "source": [
        "airbnb.head(3)"
      ],
      "metadata": {
        "id": "c-vRTug3oyf6"
      },
      "execution_count": null,
      "outputs": []
    },
    {
      "cell_type": "markdown",
      "source": [
        "#### Chart - 9"
      ],
      "metadata": {
        "id": "YJ55k-q6phqO"
      }
    },
    {
      "cell_type": "code",
      "source": [
        "# Chart - 9 visualization code\n",
        "plt.figure(figsize=(12,8))\n",
        "# code for getting total_no_of_reviews corresponding to location-\n",
        "airbnb.groupby('neighbourhood_group')['number_of_reviews'].sum().sort_values(ascending=False).plot(kind='pie',autopct='%0.1f%%',explode=[0.1,0,0,0,0.1],shadow=True)\n",
        "plt.show()"
      ],
      "metadata": {
        "id": "B2aS4O1ophqO"
      },
      "execution_count": null,
      "outputs": []
    },
    {
      "cell_type": "markdown",
      "source": [
        "##### 1. Why did you pick the specific chart?"
      ],
      "metadata": {
        "id": "gCFgpxoyphqP"
      }
    },
    {
      "cell_type": "markdown",
      "source": [
        "* I picked pie chart because it will give contribution of each categories on a standard scale.\n",
        "* In pie chart we can draw graph between numerical and categorical columns."
      ],
      "metadata": {
        "id": "TVxDimi2phqP"
      }
    },
    {
      "cell_type": "markdown",
      "source": [
        "##### 2. What is/are the insight(s) found from the chart?"
      ],
      "metadata": {
        "id": "OVtJsKN_phqQ"
      }
    },
    {
      "cell_type": "markdown",
      "source": [
        "* The above graph shows that Brooklyn has got maximum no of reviews,and Staten island has minimum no of reviews."
      ],
      "metadata": {
        "id": "ngGi97qjphqQ"
      }
    },
    {
      "cell_type": "markdown",
      "source": [
        "##### 3. Will the gained insights help creating a positive business impact?\n",
        "Are there any insights that lead to negative growth? Justify with specific reason."
      ],
      "metadata": {
        "id": "lssrdh5qphqQ"
      }
    },
    {
      "cell_type": "markdown",
      "source": [
        "Yes, definitely from the insights which i got from the chart could be helpful for business growth.\n",
        "* There are some neighbourhood_group where peoples wouldn't like to give reviews.We have to find out root causes why peoples wouldn't like these neighbourhood_group.According to that airbnb has to take some action on this and resolve the problems that will help to business growth."
      ],
      "metadata": {
        "id": "tBpY5ekJphqQ"
      }
    },
    {
      "cell_type": "code",
      "source": [
        "airbnb.head(3)"
      ],
      "metadata": {
        "id": "AnP7cYnau3U2"
      },
      "execution_count": null,
      "outputs": []
    },
    {
      "cell_type": "markdown",
      "source": [
        "#### Chart - 10"
      ],
      "metadata": {
        "id": "U2RJ9gkRphqQ"
      }
    },
    {
      "cell_type": "code",
      "source": [
        "# Chart - 10 visualization code\n",
        "# code for showing correlation between price and number_of_reviews-\n",
        "sns.scatterplot(x=airbnb['price'],y=airbnb['number_of_reviews'])\n",
        "plt.show()"
      ],
      "metadata": {
        "id": "GM7a4YP4phqQ"
      },
      "execution_count": null,
      "outputs": []
    },
    {
      "cell_type": "markdown",
      "source": [
        "##### 1. Why did you pick the specific chart?"
      ],
      "metadata": {
        "id": "1M8mcRywphqQ"
      }
    },
    {
      "cell_type": "markdown",
      "source": [
        "* I picked up this graph because i want to see the correlation between numerical vs numerical column.\n",
        "* Scatter plot gives the correlation between numerical vs numerical column."
      ],
      "metadata": {
        "id": "8agQvks0phqQ"
      }
    },
    {
      "cell_type": "markdown",
      "source": [
        "##### 2. What is/are the insight(s) found from the chart?"
      ],
      "metadata": {
        "id": "tgIPom80phqQ"
      }
    },
    {
      "cell_type": "markdown",
      "source": [
        "* From above graph we can clearly see that most no of reviews we are getting at low price.\n",
        "* So we can say that peoples would like to book that apartments whose price is low."
      ],
      "metadata": {
        "id": "Qp13pnNzphqQ"
      }
    },
    {
      "cell_type": "markdown",
      "source": [
        "##### 3. Will the gained insights help creating a positive business impact?\n",
        "Are there any insights that lead to negative growth? Justify with specific reason."
      ],
      "metadata": {
        "id": "JMzcOPDDphqR"
      }
    },
    {
      "cell_type": "markdown",
      "source": [
        "Yes, Here are points which could be impact on business growth-:\n",
        "* airbnb nyc should listing those type of apartments whose price is low.\n",
        "* Because peoples are more interested to book those apartments whose price is low.\n",
        "* If apartments will be available at low price then definitely chances for booking more apartments that will impact on business growth."
      ],
      "metadata": {
        "id": "R4Ka1PC2phqR"
      }
    },
    {
      "cell_type": "code",
      "source": [
        "airbnb.head(3)"
      ],
      "metadata": {
        "id": "4z3e7liYfOiq"
      },
      "execution_count": null,
      "outputs": []
    },
    {
      "cell_type": "markdown",
      "source": [
        "#### Chart - 11"
      ],
      "metadata": {
        "id": "x-EpHcCOp1ci"
      }
    },
    {
      "cell_type": "code",
      "source": [
        "# Chart - 11 visualization code\n",
        "# lets see price of each locations-\n",
        "airbnb.groupby('neighbourhood_group')['price'].mean().reset_index()"
      ],
      "metadata": {
        "id": "mAQTIvtqp1cj"
      },
      "execution_count": null,
      "outputs": []
    },
    {
      "cell_type": "code",
      "source": [
        "sns.barplot(data=airbnb,x='neighbourhood_group',y='price')"
      ],
      "metadata": {
        "id": "-oDuAHI-x0fi"
      },
      "execution_count": null,
      "outputs": []
    },
    {
      "cell_type": "markdown",
      "source": [
        "##### 1. Why did you pick the specific chart?"
      ],
      "metadata": {
        "id": "X_VqEhTip1ck"
      }
    },
    {
      "cell_type": "markdown",
      "source": [
        "* I used Bar graph because Bar plot compare between categorical columns with their respective values."
      ],
      "metadata": {
        "id": "-vsMzt_np1ck"
      }
    },
    {
      "cell_type": "markdown",
      "source": [
        "##### 2. What is/are the insight(s) found from the chart?"
      ],
      "metadata": {
        "id": "8zGJKyg5p1ck"
      }
    },
    {
      "cell_type": "markdown",
      "source": [
        "Insights-:\n",
        "\n",
        "* The average price of living at NYC, Manhattan is the costliest place to live.\n",
        "* The average price of Queens and Bronx are nearly equal.\n",
        "* The average price of Brooklyn and Staten Island are nearly equal."
      ],
      "metadata": {
        "id": "ZYdMsrqVp1ck"
      }
    },
    {
      "cell_type": "markdown",
      "source": [
        "##### 3. Will the gained insights help creating a positive business impact?\n",
        "Are there any insights that lead to negative growth? Justify with specific reason."
      ],
      "metadata": {
        "id": "PVzmfK_Ep1ck"
      }
    },
    {
      "cell_type": "markdown",
      "source": [
        "yes,gained insights could be create a positive business impact-:\n",
        "* There are some neighbourhood_group where peoples wouldn't like to book the apartments, inspite of that those apartments are available for booking at high price.\n",
        "* But peoples would love to book low price apartments,if airbnb has reduce price for booking for those neighbourhood_group where peoples are not booking more apartments.\n",
        "* After that reduced price may be the key factor for bringing more peoples."
      ],
      "metadata": {
        "id": "druuKYZpp1ck"
      }
    },
    {
      "cell_type": "code",
      "source": [
        "airbnb.head(3)"
      ],
      "metadata": {
        "id": "8swTDfvRuLYA"
      },
      "execution_count": null,
      "outputs": []
    },
    {
      "cell_type": "markdown",
      "source": [
        "#### Chart - 12"
      ],
      "metadata": {
        "id": "n3dbpmDWp1ck"
      }
    },
    {
      "cell_type": "code",
      "source": [
        "#plt.figure(figsize=(9,7))\n",
        "# lets see how different room types in different locations getting reviews_per_month-\n",
        "sns.stripplot(data=airbnb,x='neighbourhood_group',y='reviews_per_month',hue='room_type',dodge=True)\n",
        "plt.show()"
      ],
      "metadata": {
        "id": "AYjqKHdv1dgR"
      },
      "execution_count": null,
      "outputs": []
    },
    {
      "cell_type": "markdown",
      "source": [
        "##### 1. Why did you pick the specific chart?"
      ],
      "metadata": {
        "id": "ylSl6qgtp1ck"
      }
    },
    {
      "cell_type": "markdown",
      "source": [
        "* I used this plot because Stripplot plot between categorical and numerical columns.\n",
        "* I want to see the Scatter plot of categorical columns for this reason i used stripplot."
      ],
      "metadata": {
        "id": "m2xqNkiQp1ck"
      }
    },
    {
      "cell_type": "markdown",
      "source": [
        "##### 2. What is/are the insight(s) found from the chart?"
      ],
      "metadata": {
        "id": "ZWILFDl5p1ck"
      }
    },
    {
      "cell_type": "markdown",
      "source": [
        "Insights-:\n",
        "\n",
        "* Reviews per month in Manhattan,Brooklyn,Staten Island,Bronx are equal for Private as well as Entire home/apt.\n",
        "* But Reviews per month is more in Queens for Private room as compared to Entire home/apt."
      ],
      "metadata": {
        "id": "x-lUsV2mp1ck"
      }
    },
    {
      "cell_type": "markdown",
      "source": [
        "##### 3. Will the gained insights help creating a positive business impact?\n",
        "Are there any insights that lead to negative growth? Justify with specific reason."
      ],
      "metadata": {
        "id": "M7G43BXep1ck"
      }
    },
    {
      "cell_type": "markdown",
      "source": [
        "yes, Here are some points which impact on business growth-:\n",
        "* Here more no of reviews_per_month is getting private room at Queens but Manhattan is such a place where peoples more like to booking.\n",
        "* Peoples also more like to booking private rooms.\n",
        "* According to this Manhattan should have getting more no of reviews_per_month.\n",
        "* There is some problem which made guest unhappy.Airbnb has to resolve that problem and make guest happy so reviews_per_month will increase and it will help to business growth."
      ],
      "metadata": {
        "id": "5wwDJXsLp1cl"
      }
    },
    {
      "cell_type": "code",
      "source": [
        "airbnb.head(3\n",
        "            )"
      ],
      "metadata": {
        "id": "LowkZw0jZdXQ"
      },
      "execution_count": null,
      "outputs": []
    },
    {
      "cell_type": "markdown",
      "source": [
        "#### Chart - 13"
      ],
      "metadata": {
        "id": "Ag9LCva-p1cl"
      }
    },
    {
      "cell_type": "code",
      "source": [
        "# Chart - 13 visualization code\n",
        "# code for checking price in different room_types at different locations-\n",
        "sns.barplot(data=airbnb,x=airbnb['neighbourhood_group'],y=airbnb['price'],hue='room_type')"
      ],
      "metadata": {
        "id": "EUfxeq9-p1cl"
      },
      "execution_count": null,
      "outputs": []
    },
    {
      "cell_type": "markdown",
      "source": [
        "##### 1. Why did you pick the specific chart?"
      ],
      "metadata": {
        "id": "E6MkPsBcp1cl"
      }
    },
    {
      "cell_type": "markdown",
      "source": [
        "* Bar graph is used for comparision between the categorical columns with their respective values.\n",
        "* Here categorical column is neighbourhood group and values on the basis of comparision is price.\n",
        "* I used hue--> hue is used to add addtional information on the same chart."
      ],
      "metadata": {
        "id": "V22bRsFWp1cl"
      }
    },
    {
      "cell_type": "markdown",
      "source": [
        "##### 2. What is/are the insight(s) found from the chart?"
      ],
      "metadata": {
        "id": "2cELzS2fp1cl"
      }
    },
    {
      "cell_type": "markdown",
      "source": [
        "Insights-:\n",
        "\n",
        "* Price of Entire home/apt in Manhattan is more as compared to others.\n",
        "* Price of Entire home/apt in Brooklyn and Staten Island is approx equal.\n",
        "* Price of Entire home/apt in Queens and Bronx is approx equal.\n",
        "* Price of Private room in Manhattan is high as compared to others.\n",
        "* Price of Private room in Brooklyn,Queens,Staten Island and Bronx is approx equal.\n",
        "* Price of Shared room in Brooklyn is less as compared to others."
      ],
      "metadata": {
        "id": "ozQPc2_Ip1cl"
      }
    },
    {
      "cell_type": "markdown",
      "source": [
        "##### 3. Will the gained insights help creating a positive business impact?\n",
        "Are there any insights that lead to negative growth? Justify with specific reason."
      ],
      "metadata": {
        "id": "3MPXvC8up1cl"
      }
    },
    {
      "cell_type": "markdown",
      "source": [
        "Yes, There are some points which can be useful for business growth-:\n",
        "* Peoples would like to book private rooms instead of shared rooms at all the neighbourhood_group it may be due to the price because at all neighbourhood_group there is not so much price difference between private and shared rooms.\n",
        "* But i think there has to more price difference between private and shared rooms.\n",
        "* If the price of shared rooms will be less then there will be chance for more booking and business growth."
      ],
      "metadata": {
        "id": "GL8l1tdLp1cl"
      }
    },
    {
      "cell_type": "markdown",
      "source": [
        "#### Chart - 14 - Correlation Heatmap"
      ],
      "metadata": {
        "id": "NC_X3p0fY2L0"
      }
    },
    {
      "cell_type": "code",
      "source": [
        "# Correlation Heatmap visualization code\n",
        "fig=plt.subplots(figsize=(10,8))\n",
        "# it will give correlation between each variables-\n",
        "sns.heatmap(airbnb.corr(),annot= True)\n",
        "plt.show()"
      ],
      "metadata": {
        "id": "xyC9zolEZNRQ"
      },
      "execution_count": null,
      "outputs": []
    },
    {
      "cell_type": "markdown",
      "source": [
        "##### 1. Why did you pick the specific chart?"
      ],
      "metadata": {
        "id": "UV0SzAkaZNRQ"
      }
    },
    {
      "cell_type": "markdown",
      "source": [
        "* I want to see the correlation between all the columns in one go.\n",
        "* Heat map will give the correlation between columns in a single chart, for this reason i used heatmap."
      ],
      "metadata": {
        "id": "DVPuT8LYZNRQ"
      }
    },
    {
      "cell_type": "markdown",
      "source": [
        "##### 2. What is/are the insight(s) found from the chart?"
      ],
      "metadata": {
        "id": "YPEH6qLeZNRQ"
      }
    },
    {
      "cell_type": "markdown",
      "source": [
        "Insights-:\n",
        "\n",
        "* There is strong correlation between reviews per month and number of reviews.\n",
        "* There is slightly correlation among host_id to reviews_per_month & availability_365.\n",
        "* Slightly correlation between calculated_host_listings_count and availability_365.\n",
        "* There is noticiable correlation between availability_365 & reviews_per_month ."
      ],
      "metadata": {
        "id": "bfSqtnDqZNRR"
      }
    },
    {
      "cell_type": "markdown",
      "source": [
        "#### Chart - 15 - Pair Plot"
      ],
      "metadata": {
        "id": "q29F0dvdveiT"
      }
    },
    {
      "cell_type": "code",
      "source": [
        "airbnb.head(3)"
      ],
      "metadata": {
        "id": "9_Auwlp6_2n_"
      },
      "execution_count": null,
      "outputs": []
    },
    {
      "cell_type": "code",
      "source": [
        "# Pair Plot visualization code\n",
        "g=sns.PairGrid(data=airbnb)\n",
        "g.map_offdiag(sns.scatterplot)"
      ],
      "metadata": {
        "id": "o58-TEIhveiU"
      },
      "execution_count": null,
      "outputs": []
    },
    {
      "cell_type": "markdown",
      "source": [
        "##### 1. Why did you pick the specific chart?"
      ],
      "metadata": {
        "id": "EXh0U9oCveiU"
      }
    },
    {
      "cell_type": "markdown",
      "source": [
        "* Pairplot gives pairwise relationship between numericals column.\n",
        "\n",
        "* Pairplot automatically detect numericals column and then pair by pair draw pairplot between all numerical columns.\n",
        "\n",
        "* I just wanted to see correlation between numericals column for that reason i used pairplot."
      ],
      "metadata": {
        "id": "eMmPjTByveiU"
      }
    },
    {
      "cell_type": "markdown",
      "source": [
        "##### 2. What is/are the insight(s) found from the chart?"
      ],
      "metadata": {
        "id": "22aHeOlLveiV"
      }
    },
    {
      "cell_type": "markdown",
      "source": [
        "Answer Here"
      ],
      "metadata": {
        "id": "uPQ8RGwHveiV"
      }
    },
    {
      "cell_type": "markdown",
      "source": [
        "## **5. Solution to Business Objective**"
      ],
      "metadata": {
        "id": "JcMwzZxoAimU"
      }
    },
    {
      "cell_type": "markdown",
      "source": [
        "#### What do you suggest the client to achieve Business Objective ?\n",
        "Explain Briefly."
      ],
      "metadata": {
        "id": "8G2x9gOozGDZ"
      }
    },
    {
      "cell_type": "markdown",
      "source": [
        "Solution to create positive impact on business-:\n",
        "1. It has been observed that Staten Island and Bronx are the place where no of listing is very may be guests are not liking those places,So if Airbnb give some offer on booking for those places and no of listing increases,then there is a chance to increase the revenue.\n",
        "2. It has been observed that people are more interested to book Entire home/apt and Private rooms so increase the no of listing for these of rooms.\n",
        "3. Airbnb should listing those apartments whose minimum night for booking is less, specially in Manhattan because it is the most demanding place and there is 8.3% apartments where any guest has to book for minimum 30 days which is not preferable.\n",
        "4. Airbnb should reduce listing of those apartments which are not available for 365 days otherwise it will create negative impact on business.\n",
        "5. Airbnb should listing those apartments whose price are less,because guests are booking those apartments whose price is less,so price reduces chances for more booking and increase revenue."
      ],
      "metadata": {
        "id": "pASKb0qOza21"
      }
    },
    {
      "cell_type": "markdown",
      "source": [
        "# **Conclusion**"
      ],
      "metadata": {
        "id": "gCX9965dhzqZ"
      }
    },
    {
      "cell_type": "markdown",
      "source": [
        "* There are 5 neighbourhood_group(Location) where airbnb nyc apartments are available.\n",
        "\n",
        "* Manhattan is the place where no of apartments are more in compared to others.\n",
        "* There are 3 types of room type available.\n",
        "\n",
        "  * entire home/apt\n",
        "\n",
        "  * private room\n",
        "\n",
        "  * shared room\n",
        "* The contribution of Entire room is 52% ,private room is 45.7% and shared room is 2.4%.\n",
        "* There are many apartments which contribute 28.1% for minimum of one night, 25.8% for two nights and 17.6% for three nights etc. which we can book for.\n",
        "* There are 2399 apartments which are located in Manhattan for minimum nights booking is 30.\n",
        "* Like 50.6% of Entire room is not available for 365 days, 47.7% of private room and 1.7% of shared room which are not available for 365 days.\n",
        "* Brooklyn has got maximum no of reviews,and Staten island has minimum no of reviews.\n",
        "* people would like to book that apartments whose price is low.\n",
        "* The average price for living is high in Manhattan so it is the costliest place to live.\n",
        "* Price for Entire home/apt in Manhattan is more as compared to others.\n",
        "* Price for Private room at Manhattan is high as compared to others.\n",
        "* Price for Shared room at Brooklyn is less as compared to others.\n"
      ],
      "metadata": {
        "id": "Fjb1IsQkh3yE"
      }
    },
    {
      "cell_type": "markdown",
      "source": [
        "### ***Hurrah! You have successfully completed your EDA Capstone Project !!!***"
      ],
      "metadata": {
        "id": "gIfDvo9L0UH2"
      }
    }
  ]
}